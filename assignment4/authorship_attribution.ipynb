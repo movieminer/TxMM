{
 "cells": [
  {
   "cell_type": "code",
   "execution_count": 23,
   "metadata": {},
   "outputs": [
    {
     "name": "stderr",
     "output_type": "stream",
     "text": [
      "[nltk_data] Downloading package averaged_perceptron_tagger to\n",
      "[nltk_data]     /home/movieminer/nltk_data...\n",
      "[nltk_data]   Package averaged_perceptron_tagger is already up-to-\n",
      "[nltk_data]       date!\n",
      "[nltk_data] Downloading package words to /home/movieminer/nltk_data...\n",
      "[nltk_data]   Package words is already up-to-date!\n",
      "[nltk_data] Downloading package tagsets to\n",
      "[nltk_data]     /home/movieminer/nltk_data...\n",
      "[nltk_data]   Package tagsets is already up-to-date!\n",
      "[nltk_data] Downloading package punkt to /home/movieminer/nltk_data...\n",
      "[nltk_data]   Package punkt is already up-to-date!\n"
     ]
    },
    {
     "data": {
      "text/plain": [
       "True"
      ]
     },
     "execution_count": 23,
     "metadata": {},
     "output_type": "execute_result"
    }
   ],
   "source": [
    "import pandas as pd\n",
    "from sklearn.preprocessing import StandardScaler\n",
    "\n",
    "import numpy as np\n",
    "from nltk.data import load\n",
    "import sklearn\n",
    "from sklearn import svm as SVM\n",
    "from sklearn.model_selection import GridSearchCV\n",
    "import nltk\n",
    "import matplotlib.pyplot as plt\n",
    "import helper\n",
    "nltk.download('averaged_perceptron_tagger')\n",
    "nltk.download('words')\n",
    "nltk.download('tagsets')\n",
    "nltk.download('punkt')\n"
   ]
  },
  {
   "cell_type": "code",
   "execution_count": 24,
   "metadata": {},
   "outputs": [],
   "source": [
    "data_path = 'A4data_2324_pan2020/'\n",
    "\n",
    "def load_data():\n",
    "    train_dataset = pd.read_csv(data_path + 'pan2324_train_data.csv')\n",
    "    test_dataset = pd.read_csv(data_path + 'pan2324_test_data.csv')\n",
    "    dev_dataset = pd.read_csv(data_path + 'pan2324_dev_data.csv')\n",
    "    return train_dataset, test_dataset, dev_dataset"
   ]
  },
  {
   "cell_type": "code",
   "execution_count": 25,
   "metadata": {},
   "outputs": [],
   "source": [
    "train_dataset, test_dataset, dev_dataset = load_data()"
   ]
  },
  {
   "cell_type": "code",
   "execution_count": 26,
   "metadata": {},
   "outputs": [],
   "source": [
    "tagdict = load('help/tagsets/upenn_tagset.pickle')\n",
    "function_words = helper.function_words\n",
    "\n",
    "def feature_extraction(dataset):\n",
    "    text = dataset['text']\n",
    "    authors = dataset['author']\n",
    "    features = {}\n",
    "\n",
    "    # Character based features\n",
    "    features['CF'] = pd.DataFrame()\n",
    "    features['LETTERS'] = pd.DataFrame()\n",
    "    features['CHARS'] = pd.DataFrame()\n",
    "\n",
    "    features['CF']['char_count'] = text.apply(len)\n",
    "    uppercase_count = text.apply(lambda x: sum([1 for char in x if char.isupper()]))\n",
    "    features['CF']['uppercase_frequency'] = uppercase_count / features['CF']['char_count']\n",
    "    digit_count = text.apply(lambda x: sum([1 for char in x if char.isdigit()]))\n",
    "    features['CF']['digit_frequency'] = digit_count / features['CF']['char_count']\n",
    "    features['CF']['whitespace_frequency'] = text.apply(lambda x: sum([1 for char in x if char == ' '])) / features['CF']['char_count']\n",
    "    features['CF']['alphabet_count'] = text.apply(lambda x: sum([1 for letter in x.lower() if letter.isalpha()]))\n",
    "\n",
    "    for letter in 'abcdefghijklmnopqrstuvwxyz':\n",
    "        features['LETTERS'][letter + '_frequency'] = text.apply(lambda x: x.lower().count(letter)) / features['CF']['char_count']\n",
    "        \n",
    "    for special_character in [\"~\" , \"@\", \"#\", \"$\", \"%\", \"^\", \"&\", \"*\", \"-\", \"_\", \"=\" ,\"+\", \">\", \"<\", \"[\", \"]\", \"{\", \"}\", \"/\", \"\\\\\", \"|\"]:\n",
    "        features['CHARS'][special_character + '_frequency'] = text.apply(lambda x: x.count(special_character)) / features['CF']['char_count']\n",
    "\n",
    "    # Word based features\n",
    "    features['WF'] = pd.DataFrame()\n",
    "\n",
    "    features['WF']['word_count'] = text.apply(lambda x: len(x.split()))\n",
    "    features['WF']['avg_word_length'] = text.apply(lambda x: sum([len(word) for word in x.split()]) / len(x.split()))\n",
    "    features['WF']['avg_sentence_length'] = text.apply(lambda x: sum([len(sentence) for sentence in x.split('.')]) / len(x.split('.')))\n",
    "    features['WF']['avg_sentence_word_count'] = features['WF']['avg_sentence_length'] / features['WF']['avg_word_length']\n",
    "    unique_words = text.apply(lambda x: len(set(x.split())))\n",
    "    features['WF']['unique_words_frequency'] = unique_words / features['WF']['word_count']\n",
    "\n",
    "    # Syntactic features\n",
    "    features['PUNC'] = pd.DataFrame()\n",
    "\n",
    "    punctuation_count = text.apply(lambda x: sum([1 for char in x if char in ['.', ',', ';', ':', '!', '?', \"\\'\", \"\\\"\"]]))\n",
    "    features['PUNC']['punctuation_frequency'] = punctuation_count / features['CF']['char_count']\n",
    "    \n",
    "    new_columns = {}\n",
    "    for function_word in function_words:\n",
    "        new_columns[function_word + '_frequency'] = text.apply(lambda x: x.lower().count(function_word))\n",
    "\n",
    "    features['FUNC'] = pd.DataFrame(new_columns)\n",
    "\n",
    "    # Structural features\n",
    "    features['STRUCTF'] = pd.DataFrame()\n",
    "\n",
    "    features['STRUCTF']['sentence_count'] = text.apply(lambda x: len(x.split('.')))\n",
    "    features['STRUCTF']['repeated_punctuation_frequency'] = text.apply(lambda x: sum([1 for i in range(len(x)) if x[i] in ['.', ',', ';', ':', '!', '?', \"\\'\", \"\\\"\"] and x[i] == x[i-1]])) / punctuation_count\n",
    "\n",
    "    # POS features\n",
    "    features['POS'] = pd.DataFrame()\n",
    "\n",
    "    pos = text.apply(lambda x: nltk.pos_tag(nltk.word_tokenize(x)))\n",
    "    posfreq = pos.apply(lambda x: dict(nltk.FreqDist([tag for (word, tag) in x])))\n",
    "    tags = list(tagdict)\n",
    "    for i,tag in enumerate(tags):\n",
    "        features['POS'][f'pos_{tag}'] = posfreq.apply(lambda x: x.get(tag, 0))\n",
    "\n",
    "    # total_pos_tags = features['POS'].sum(axis=1)\n",
    "    # for tag in tags:\n",
    "    #     if tag.isalpha():\n",
    "    #       features['POS'][f'pos_{tag}_frequency'] = features['POS'][f'pos_{tag}'] / total_pos_tags\n",
    "\n",
    "    return features, authors"
   ]
  },
  {
   "cell_type": "code",
   "execution_count": 92,
   "metadata": {},
   "outputs": [],
   "source": [
    "def dict_to_df(dictionary):\n",
    "    df = pd.DataFrame()\n",
    "    for key in dictionary.keys():\n",
    "        df = pd.concat([df, dictionary[key]], axis=1)\n",
    "    return df\n",
    "\n",
    "def to_scalar(train, dev, test):\n",
    "    df_train = dict_to_df(train).values\n",
    "    df_dev = dict_to_df(dev).values\n",
    "    df_test = dict_to_df(test).values\n",
    "\n",
    "    scaler = StandardScaler()\n",
    "\n",
    "    train_scaled = scaler.fit_transform(df_train)\n",
    "    dev_scaled = scaler.transform(df_dev)\n",
    "    test_scaled = scaler.transform(df_test)\n",
    "\n",
    "    return train_scaled, dev_scaled, test_scaled"
   ]
  },
  {
   "cell_type": "code",
   "execution_count": 54,
   "metadata": {},
   "outputs": [],
   "source": [
    "def train_model(X_train, y_train, X_dev, y_dev):\n",
    "  clf = SVM.SVC()\n",
    "\n",
    "  clf.fit(X_train, y_train)\n",
    "\n",
    "  params = {'C': [0.1, 1, 10, 100, 1000], 'kernel': ['linear', 'rbf'], 'gamma': [0.01, 0.1, 1, 'scale', 'auto']}\n",
    "  grid_search = GridSearchCV(clf, params, cv=5)\n",
    "  grid_search.fit(X_dev, y_dev)\n",
    "  \n",
    "  best_clf = grid_search.best_estimator_\n",
    "  best_score = grid_search.best_score_\n",
    "  \n",
    "  print(f'Best score: {best_score} with C={best_clf.C} and kernel={best_clf.kernel} and gamma={best_clf.gamma}')\n",
    "  \n",
    "  return best_clf, best_score"
   ]
  },
  {
   "cell_type": "code",
   "execution_count": 49,
   "metadata": {},
   "outputs": [],
   "source": [
    "def save_features(features, authors, filename):\n",
    "    features = dict_to_df(features)\n",
    "    features['author'] = authors\n",
    "    features.to_csv(f\"features/{filename}\", index=False)"
   ]
  },
  {
   "cell_type": "code",
   "execution_count": 93,
   "metadata": {},
   "outputs": [
    {
     "ename": "KeyboardInterrupt",
     "evalue": "",
     "output_type": "error",
     "traceback": [
      "\u001b[0;31m---------------------------------------------------------------------------\u001b[0m",
      "\u001b[0;31mKeyboardInterrupt\u001b[0m                         Traceback (most recent call last)",
      "\u001b[1;32m/home/movieminer/ubuntu_computingscience/txmm/TxMM/assignment4/authorship_attribution.ipynb Cell 8\u001b[0m line \u001b[0;36m1\n\u001b[0;32m----> <a href='vscode-notebook-cell://wsl%2Bubuntu-20.04/home/movieminer/ubuntu_computingscience/txmm/TxMM/assignment4/authorship_attribution.ipynb#X10sdnNjb2RlLXJlbW90ZQ%3D%3D?line=0'>1</a>\u001b[0m X_train, y_train \u001b[39m=\u001b[39m feature_extraction(train_dataset)\n\u001b[1;32m      <a href='vscode-notebook-cell://wsl%2Bubuntu-20.04/home/movieminer/ubuntu_computingscience/txmm/TxMM/assignment4/authorship_attribution.ipynb#X10sdnNjb2RlLXJlbW90ZQ%3D%3D?line=1'>2</a>\u001b[0m X_dev, y_dev  \u001b[39m=\u001b[39m feature_extraction(dev_dataset)\n\u001b[1;32m      <a href='vscode-notebook-cell://wsl%2Bubuntu-20.04/home/movieminer/ubuntu_computingscience/txmm/TxMM/assignment4/authorship_attribution.ipynb#X10sdnNjb2RlLXJlbW90ZQ%3D%3D?line=2'>3</a>\u001b[0m X_test, y_test \u001b[39m=\u001b[39m feature_extraction(test_dataset)\n",
      "\u001b[1;32m/home/movieminer/ubuntu_computingscience/txmm/TxMM/assignment4/authorship_attribution.ipynb Cell 8\u001b[0m line \u001b[0;36m5\n\u001b[1;32m     <a href='vscode-notebook-cell://wsl%2Bubuntu-20.04/home/movieminer/ubuntu_computingscience/txmm/TxMM/assignment4/authorship_attribution.ipynb#X10sdnNjb2RlLXJlbW90ZQ%3D%3D?line=55'>56</a>\u001b[0m \u001b[39m# POS features\u001b[39;00m\n\u001b[1;32m     <a href='vscode-notebook-cell://wsl%2Bubuntu-20.04/home/movieminer/ubuntu_computingscience/txmm/TxMM/assignment4/authorship_attribution.ipynb#X10sdnNjb2RlLXJlbW90ZQ%3D%3D?line=56'>57</a>\u001b[0m features[\u001b[39m'\u001b[39m\u001b[39mPOS\u001b[39m\u001b[39m'\u001b[39m] \u001b[39m=\u001b[39m pd\u001b[39m.\u001b[39mDataFrame()\n\u001b[0;32m---> <a href='vscode-notebook-cell://wsl%2Bubuntu-20.04/home/movieminer/ubuntu_computingscience/txmm/TxMM/assignment4/authorship_attribution.ipynb#X10sdnNjb2RlLXJlbW90ZQ%3D%3D?line=58'>59</a>\u001b[0m pos \u001b[39m=\u001b[39m text\u001b[39m.\u001b[39;49mapply(\u001b[39mlambda\u001b[39;49;00m x: nltk\u001b[39m.\u001b[39;49mpos_tag(nltk\u001b[39m.\u001b[39;49mword_tokenize(x)))\n\u001b[1;32m     <a href='vscode-notebook-cell://wsl%2Bubuntu-20.04/home/movieminer/ubuntu_computingscience/txmm/TxMM/assignment4/authorship_attribution.ipynb#X10sdnNjb2RlLXJlbW90ZQ%3D%3D?line=59'>60</a>\u001b[0m posfreq \u001b[39m=\u001b[39m pos\u001b[39m.\u001b[39mapply(\u001b[39mlambda\u001b[39;00m x: \u001b[39mdict\u001b[39m(nltk\u001b[39m.\u001b[39mFreqDist([tag \u001b[39mfor\u001b[39;00m (word, tag) \u001b[39min\u001b[39;00m x])))\n\u001b[1;32m     <a href='vscode-notebook-cell://wsl%2Bubuntu-20.04/home/movieminer/ubuntu_computingscience/txmm/TxMM/assignment4/authorship_attribution.ipynb#X10sdnNjb2RlLXJlbW90ZQ%3D%3D?line=60'>61</a>\u001b[0m tags \u001b[39m=\u001b[39m \u001b[39mlist\u001b[39m(tagdict)\n",
      "File \u001b[0;32m~/ubuntu_computingscience/txmm/.venv/lib/python3.11/site-packages/pandas/core/series.py:4760\u001b[0m, in \u001b[0;36mSeries.apply\u001b[0;34m(self, func, convert_dtype, args, by_row, **kwargs)\u001b[0m\n\u001b[1;32m   4625\u001b[0m \u001b[39mdef\u001b[39;00m \u001b[39mapply\u001b[39m(\n\u001b[1;32m   4626\u001b[0m     \u001b[39mself\u001b[39m,\n\u001b[1;32m   4627\u001b[0m     func: AggFuncType,\n\u001b[0;32m   (...)\u001b[0m\n\u001b[1;32m   4632\u001b[0m     \u001b[39m*\u001b[39m\u001b[39m*\u001b[39mkwargs,\n\u001b[1;32m   4633\u001b[0m ) \u001b[39m-\u001b[39m\u001b[39m>\u001b[39m DataFrame \u001b[39m|\u001b[39m Series:\n\u001b[1;32m   4634\u001b[0m \u001b[39m    \u001b[39m\u001b[39m\"\"\"\u001b[39;00m\n\u001b[1;32m   4635\u001b[0m \u001b[39m    Invoke function on values of Series.\u001b[39;00m\n\u001b[1;32m   4636\u001b[0m \n\u001b[0;32m   (...)\u001b[0m\n\u001b[1;32m   4751\u001b[0m \u001b[39m    dtype: float64\u001b[39;00m\n\u001b[1;32m   4752\u001b[0m \u001b[39m    \"\"\"\u001b[39;00m\n\u001b[1;32m   4753\u001b[0m     \u001b[39mreturn\u001b[39;00m SeriesApply(\n\u001b[1;32m   4754\u001b[0m         \u001b[39mself\u001b[39;49m,\n\u001b[1;32m   4755\u001b[0m         func,\n\u001b[1;32m   4756\u001b[0m         convert_dtype\u001b[39m=\u001b[39;49mconvert_dtype,\n\u001b[1;32m   4757\u001b[0m         by_row\u001b[39m=\u001b[39;49mby_row,\n\u001b[1;32m   4758\u001b[0m         args\u001b[39m=\u001b[39;49margs,\n\u001b[1;32m   4759\u001b[0m         kwargs\u001b[39m=\u001b[39;49mkwargs,\n\u001b[0;32m-> 4760\u001b[0m     )\u001b[39m.\u001b[39;49mapply()\n",
      "File \u001b[0;32m~/ubuntu_computingscience/txmm/.venv/lib/python3.11/site-packages/pandas/core/apply.py:1207\u001b[0m, in \u001b[0;36mSeriesApply.apply\u001b[0;34m(self)\u001b[0m\n\u001b[1;32m   1204\u001b[0m     \u001b[39mreturn\u001b[39;00m \u001b[39mself\u001b[39m\u001b[39m.\u001b[39mapply_compat()\n\u001b[1;32m   1206\u001b[0m \u001b[39m# self.func is Callable\u001b[39;00m\n\u001b[0;32m-> 1207\u001b[0m \u001b[39mreturn\u001b[39;00m \u001b[39mself\u001b[39;49m\u001b[39m.\u001b[39;49mapply_standard()\n",
      "File \u001b[0;32m~/ubuntu_computingscience/txmm/.venv/lib/python3.11/site-packages/pandas/core/apply.py:1287\u001b[0m, in \u001b[0;36mSeriesApply.apply_standard\u001b[0;34m(self)\u001b[0m\n\u001b[1;32m   1281\u001b[0m \u001b[39m# row-wise access\u001b[39;00m\n\u001b[1;32m   1282\u001b[0m \u001b[39m# apply doesn't have a `na_action` keyword and for backward compat reasons\u001b[39;00m\n\u001b[1;32m   1283\u001b[0m \u001b[39m# we need to give `na_action=\"ignore\"` for categorical data.\u001b[39;00m\n\u001b[1;32m   1284\u001b[0m \u001b[39m# TODO: remove the `na_action=\"ignore\"` when that default has been changed in\u001b[39;00m\n\u001b[1;32m   1285\u001b[0m \u001b[39m#  Categorical (GH51645).\u001b[39;00m\n\u001b[1;32m   1286\u001b[0m action \u001b[39m=\u001b[39m \u001b[39m\"\u001b[39m\u001b[39mignore\u001b[39m\u001b[39m\"\u001b[39m \u001b[39mif\u001b[39;00m \u001b[39misinstance\u001b[39m(obj\u001b[39m.\u001b[39mdtype, CategoricalDtype) \u001b[39melse\u001b[39;00m \u001b[39mNone\u001b[39;00m\n\u001b[0;32m-> 1287\u001b[0m mapped \u001b[39m=\u001b[39m obj\u001b[39m.\u001b[39;49m_map_values(\n\u001b[1;32m   1288\u001b[0m     mapper\u001b[39m=\u001b[39;49mcurried, na_action\u001b[39m=\u001b[39;49maction, convert\u001b[39m=\u001b[39;49m\u001b[39mself\u001b[39;49m\u001b[39m.\u001b[39;49mconvert_dtype\n\u001b[1;32m   1289\u001b[0m )\n\u001b[1;32m   1291\u001b[0m \u001b[39mif\u001b[39;00m \u001b[39mlen\u001b[39m(mapped) \u001b[39mand\u001b[39;00m \u001b[39misinstance\u001b[39m(mapped[\u001b[39m0\u001b[39m], ABCSeries):\n\u001b[1;32m   1292\u001b[0m     \u001b[39m# GH#43986 Need to do list(mapped) in order to get treated as nested\u001b[39;00m\n\u001b[1;32m   1293\u001b[0m     \u001b[39m#  See also GH#25959 regarding EA support\u001b[39;00m\n\u001b[1;32m   1294\u001b[0m     \u001b[39mreturn\u001b[39;00m obj\u001b[39m.\u001b[39m_constructor_expanddim(\u001b[39mlist\u001b[39m(mapped), index\u001b[39m=\u001b[39mobj\u001b[39m.\u001b[39mindex)\n",
      "File \u001b[0;32m~/ubuntu_computingscience/txmm/.venv/lib/python3.11/site-packages/pandas/core/base.py:921\u001b[0m, in \u001b[0;36mIndexOpsMixin._map_values\u001b[0;34m(self, mapper, na_action, convert)\u001b[0m\n\u001b[1;32m    918\u001b[0m \u001b[39mif\u001b[39;00m \u001b[39misinstance\u001b[39m(arr, ExtensionArray):\n\u001b[1;32m    919\u001b[0m     \u001b[39mreturn\u001b[39;00m arr\u001b[39m.\u001b[39mmap(mapper, na_action\u001b[39m=\u001b[39mna_action)\n\u001b[0;32m--> 921\u001b[0m \u001b[39mreturn\u001b[39;00m algorithms\u001b[39m.\u001b[39;49mmap_array(arr, mapper, na_action\u001b[39m=\u001b[39;49mna_action, convert\u001b[39m=\u001b[39;49mconvert)\n",
      "File \u001b[0;32m~/ubuntu_computingscience/txmm/.venv/lib/python3.11/site-packages/pandas/core/algorithms.py:1814\u001b[0m, in \u001b[0;36mmap_array\u001b[0;34m(arr, mapper, na_action, convert)\u001b[0m\n\u001b[1;32m   1812\u001b[0m values \u001b[39m=\u001b[39m arr\u001b[39m.\u001b[39mastype(\u001b[39mobject\u001b[39m, copy\u001b[39m=\u001b[39m\u001b[39mFalse\u001b[39;00m)\n\u001b[1;32m   1813\u001b[0m \u001b[39mif\u001b[39;00m na_action \u001b[39mis\u001b[39;00m \u001b[39mNone\u001b[39;00m:\n\u001b[0;32m-> 1814\u001b[0m     \u001b[39mreturn\u001b[39;00m lib\u001b[39m.\u001b[39;49mmap_infer(values, mapper, convert\u001b[39m=\u001b[39;49mconvert)\n\u001b[1;32m   1815\u001b[0m \u001b[39melse\u001b[39;00m:\n\u001b[1;32m   1816\u001b[0m     \u001b[39mreturn\u001b[39;00m lib\u001b[39m.\u001b[39mmap_infer_mask(\n\u001b[1;32m   1817\u001b[0m         values, mapper, mask\u001b[39m=\u001b[39misna(values)\u001b[39m.\u001b[39mview(np\u001b[39m.\u001b[39muint8), convert\u001b[39m=\u001b[39mconvert\n\u001b[1;32m   1818\u001b[0m     )\n",
      "File \u001b[0;32mlib.pyx:2917\u001b[0m, in \u001b[0;36mpandas._libs.lib.map_infer\u001b[0;34m()\u001b[0m\n",
      "\u001b[1;32m/home/movieminer/ubuntu_computingscience/txmm/TxMM/assignment4/authorship_attribution.ipynb Cell 8\u001b[0m line \u001b[0;36m5\n\u001b[1;32m     <a href='vscode-notebook-cell://wsl%2Bubuntu-20.04/home/movieminer/ubuntu_computingscience/txmm/TxMM/assignment4/authorship_attribution.ipynb#X10sdnNjb2RlLXJlbW90ZQ%3D%3D?line=55'>56</a>\u001b[0m \u001b[39m# POS features\u001b[39;00m\n\u001b[1;32m     <a href='vscode-notebook-cell://wsl%2Bubuntu-20.04/home/movieminer/ubuntu_computingscience/txmm/TxMM/assignment4/authorship_attribution.ipynb#X10sdnNjb2RlLXJlbW90ZQ%3D%3D?line=56'>57</a>\u001b[0m features[\u001b[39m'\u001b[39m\u001b[39mPOS\u001b[39m\u001b[39m'\u001b[39m] \u001b[39m=\u001b[39m pd\u001b[39m.\u001b[39mDataFrame()\n\u001b[0;32m---> <a href='vscode-notebook-cell://wsl%2Bubuntu-20.04/home/movieminer/ubuntu_computingscience/txmm/TxMM/assignment4/authorship_attribution.ipynb#X10sdnNjb2RlLXJlbW90ZQ%3D%3D?line=58'>59</a>\u001b[0m pos \u001b[39m=\u001b[39m text\u001b[39m.\u001b[39mapply(\u001b[39mlambda\u001b[39;00m x: nltk\u001b[39m.\u001b[39;49mpos_tag(nltk\u001b[39m.\u001b[39;49mword_tokenize(x)))\n\u001b[1;32m     <a href='vscode-notebook-cell://wsl%2Bubuntu-20.04/home/movieminer/ubuntu_computingscience/txmm/TxMM/assignment4/authorship_attribution.ipynb#X10sdnNjb2RlLXJlbW90ZQ%3D%3D?line=59'>60</a>\u001b[0m posfreq \u001b[39m=\u001b[39m pos\u001b[39m.\u001b[39mapply(\u001b[39mlambda\u001b[39;00m x: \u001b[39mdict\u001b[39m(nltk\u001b[39m.\u001b[39mFreqDist([tag \u001b[39mfor\u001b[39;00m (word, tag) \u001b[39min\u001b[39;00m x])))\n\u001b[1;32m     <a href='vscode-notebook-cell://wsl%2Bubuntu-20.04/home/movieminer/ubuntu_computingscience/txmm/TxMM/assignment4/authorship_attribution.ipynb#X10sdnNjb2RlLXJlbW90ZQ%3D%3D?line=60'>61</a>\u001b[0m tags \u001b[39m=\u001b[39m \u001b[39mlist\u001b[39m(tagdict)\n",
      "File \u001b[0;32m~/ubuntu_computingscience/txmm/.venv/lib/python3.11/site-packages/nltk/tag/__init__.py:166\u001b[0m, in \u001b[0;36mpos_tag\u001b[0;34m(tokens, tagset, lang)\u001b[0m\n\u001b[1;32m    141\u001b[0m \u001b[39m\u001b[39m\u001b[39m\"\"\"\u001b[39;00m\n\u001b[1;32m    142\u001b[0m \u001b[39mUse NLTK's currently recommended part of speech tagger to\u001b[39;00m\n\u001b[1;32m    143\u001b[0m \u001b[39mtag the given list of tokens.\u001b[39;00m\n\u001b[0;32m   (...)\u001b[0m\n\u001b[1;32m    163\u001b[0m \u001b[39m:rtype: list(tuple(str, str))\u001b[39;00m\n\u001b[1;32m    164\u001b[0m \u001b[39m\"\"\"\u001b[39;00m\n\u001b[1;32m    165\u001b[0m tagger \u001b[39m=\u001b[39m _get_tagger(lang)\n\u001b[0;32m--> 166\u001b[0m \u001b[39mreturn\u001b[39;00m _pos_tag(tokens, tagset, tagger, lang)\n",
      "File \u001b[0;32m~/ubuntu_computingscience/txmm/.venv/lib/python3.11/site-packages/nltk/tag/__init__.py:123\u001b[0m, in \u001b[0;36m_pos_tag\u001b[0;34m(tokens, tagset, tagger, lang)\u001b[0m\n\u001b[1;32m    120\u001b[0m     \u001b[39mraise\u001b[39;00m \u001b[39mTypeError\u001b[39;00m(\u001b[39m\"\u001b[39m\u001b[39mtokens: expected a list of strings, got a string\u001b[39m\u001b[39m\"\u001b[39m)\n\u001b[1;32m    122\u001b[0m \u001b[39melse\u001b[39;00m:\n\u001b[0;32m--> 123\u001b[0m     tagged_tokens \u001b[39m=\u001b[39m tagger\u001b[39m.\u001b[39;49mtag(tokens)\n\u001b[1;32m    124\u001b[0m     \u001b[39mif\u001b[39;00m tagset:  \u001b[39m# Maps to the specified tagset.\u001b[39;00m\n\u001b[1;32m    125\u001b[0m         \u001b[39mif\u001b[39;00m lang \u001b[39m==\u001b[39m \u001b[39m\"\u001b[39m\u001b[39meng\u001b[39m\u001b[39m\"\u001b[39m:\n",
      "File \u001b[0;32m~/ubuntu_computingscience/txmm/.venv/lib/python3.11/site-packages/nltk/tag/perceptron.py:180\u001b[0m, in \u001b[0;36mPerceptronTagger.tag\u001b[0;34m(self, tokens, return_conf, use_tagdict)\u001b[0m\n\u001b[1;32m    177\u001b[0m prev, prev2 \u001b[39m=\u001b[39m \u001b[39mself\u001b[39m\u001b[39m.\u001b[39mSTART\n\u001b[1;32m    178\u001b[0m output \u001b[39m=\u001b[39m []\n\u001b[0;32m--> 180\u001b[0m context \u001b[39m=\u001b[39m \u001b[39mself\u001b[39m\u001b[39m.\u001b[39mSTART \u001b[39m+\u001b[39m [\u001b[39mself\u001b[39;49m\u001b[39m.\u001b[39;49mnormalize(w) \u001b[39mfor\u001b[39;49;00m w \u001b[39min\u001b[39;49;00m tokens] \u001b[39m+\u001b[39m \u001b[39mself\u001b[39m\u001b[39m.\u001b[39mEND\n\u001b[1;32m    181\u001b[0m \u001b[39mfor\u001b[39;00m i, word \u001b[39min\u001b[39;00m \u001b[39menumerate\u001b[39m(tokens):\n\u001b[1;32m    182\u001b[0m     tag, conf \u001b[39m=\u001b[39m (\n\u001b[1;32m    183\u001b[0m         (\u001b[39mself\u001b[39m\u001b[39m.\u001b[39mtagdict\u001b[39m.\u001b[39mget(word), \u001b[39m1.0\u001b[39m) \u001b[39mif\u001b[39;00m use_tagdict \u001b[39m==\u001b[39m \u001b[39mTrue\u001b[39;00m \u001b[39melse\u001b[39;00m (\u001b[39mNone\u001b[39;00m, \u001b[39mNone\u001b[39;00m)\n\u001b[1;32m    184\u001b[0m     )\n",
      "File \u001b[0;32m~/ubuntu_computingscience/txmm/.venv/lib/python3.11/site-packages/nltk/tag/perceptron.py:180\u001b[0m, in \u001b[0;36m<listcomp>\u001b[0;34m(.0)\u001b[0m\n\u001b[1;32m    177\u001b[0m prev, prev2 \u001b[39m=\u001b[39m \u001b[39mself\u001b[39m\u001b[39m.\u001b[39mSTART\n\u001b[1;32m    178\u001b[0m output \u001b[39m=\u001b[39m []\n\u001b[0;32m--> 180\u001b[0m context \u001b[39m=\u001b[39m \u001b[39mself\u001b[39m\u001b[39m.\u001b[39mSTART \u001b[39m+\u001b[39m [\u001b[39mself\u001b[39;49m\u001b[39m.\u001b[39;49mnormalize(w) \u001b[39mfor\u001b[39;00m w \u001b[39min\u001b[39;00m tokens] \u001b[39m+\u001b[39m \u001b[39mself\u001b[39m\u001b[39m.\u001b[39mEND\n\u001b[1;32m    181\u001b[0m \u001b[39mfor\u001b[39;00m i, word \u001b[39min\u001b[39;00m \u001b[39menumerate\u001b[39m(tokens):\n\u001b[1;32m    182\u001b[0m     tag, conf \u001b[39m=\u001b[39m (\n\u001b[1;32m    183\u001b[0m         (\u001b[39mself\u001b[39m\u001b[39m.\u001b[39mtagdict\u001b[39m.\u001b[39mget(word), \u001b[39m1.0\u001b[39m) \u001b[39mif\u001b[39;00m use_tagdict \u001b[39m==\u001b[39m \u001b[39mTrue\u001b[39;00m \u001b[39melse\u001b[39;00m (\u001b[39mNone\u001b[39;00m, \u001b[39mNone\u001b[39;00m)\n\u001b[1;32m    184\u001b[0m     )\n",
      "File \u001b[0;32m~/ubuntu_computingscience/txmm/.venv/lib/python3.11/site-packages/nltk/tag/perceptron.py:266\u001b[0m, in \u001b[0;36mPerceptronTagger.normalize\u001b[0;34m(self, word)\u001b[0m\n\u001b[1;32m    263\u001b[0m     tagger\u001b[39m.\u001b[39mmodel\u001b[39m.\u001b[39mclasses \u001b[39m=\u001b[39m tagger\u001b[39m.\u001b[39mclasses\n\u001b[1;32m    264\u001b[0m     \u001b[39mreturn\u001b[39;00m tagger\n\u001b[0;32m--> 266\u001b[0m \u001b[39mdef\u001b[39;00m \u001b[39mnormalize\u001b[39m(\u001b[39mself\u001b[39m, word):\n\u001b[1;32m    267\u001b[0m \u001b[39m    \u001b[39m\u001b[39m\"\"\"\u001b[39;00m\n\u001b[1;32m    268\u001b[0m \u001b[39m    Normalization used in pre-processing.\u001b[39;00m\n\u001b[1;32m    269\u001b[0m \u001b[39m    - All words are lower cased\u001b[39;00m\n\u001b[0;32m   (...)\u001b[0m\n\u001b[1;32m    273\u001b[0m \u001b[39m    :rtype: str\u001b[39;00m\n\u001b[1;32m    274\u001b[0m \u001b[39m    \"\"\"\u001b[39;00m\n\u001b[1;32m    275\u001b[0m     \u001b[39mif\u001b[39;00m \u001b[39m\"\u001b[39m\u001b[39m-\u001b[39m\u001b[39m\"\u001b[39m \u001b[39min\u001b[39;00m word \u001b[39mand\u001b[39;00m word[\u001b[39m0\u001b[39m] \u001b[39m!=\u001b[39m \u001b[39m\"\u001b[39m\u001b[39m-\u001b[39m\u001b[39m\"\u001b[39m:\n",
      "\u001b[0;31mKeyboardInterrupt\u001b[0m: "
     ]
    }
   ],
   "source": [
    "X_train, y_train = feature_extraction(train_dataset)\n",
    "X_dev, y_dev  = feature_extraction(dev_dataset)\n",
    "X_test, y_test = feature_extraction(test_dataset)\n",
    "\n",
    "save_features(X_train, y_train, 'train_features.csv')\n",
    "save_features(X_dev, y_dev, 'dev_features.csv')\n",
    "save_features(X_test, y_test, 'test_features.csv')\n",
    "\n",
    "X_train_scalar, X_dev_scalar, X_test_scalar = to_scalar(X_train, X_dev, X_test)"
   ]
  },
  {
   "cell_type": "code",
   "execution_count": 55,
   "metadata": {},
   "outputs": [
    {
     "name": "stdout",
     "output_type": "stream",
     "text": [
      "Best score: 0.6945035460992908 with C=0.1 and kernel=linear and gamma=0.01\n",
      "0.6945035460992908\n"
     ]
    }
   ],
   "source": [
    "model, accuracy = train_model(X_train_scalar, y_train, X_dev_scalar, y_dev)\n",
    "print(accuracy)"
   ]
  },
  {
   "cell_type": "code",
   "execution_count": 94,
   "metadata": {},
   "outputs": [
    {
     "name": "stdout",
     "output_type": "stream",
     "text": [
      "(2853, 255)\n",
      "(2853, 255)\n",
      "      char_count  uppercase_frequency  digit_frequency  whitespace_frequency  \\\n",
      "0           3003             0.035298         0.000666              0.164169   \n",
      "1           3077             0.020799         0.000000              0.190445   \n",
      "2           3010             0.024252         0.000000              0.183721   \n",
      "3           3080             0.018506         0.000000              0.173052   \n",
      "4           3061             0.033322         0.000327              0.176740   \n",
      "...          ...                  ...              ...                   ...   \n",
      "2848        3084             0.037289         0.000000              0.178340   \n",
      "2849        3064             0.040796         0.000000              0.167102   \n",
      "2850        3083             0.028219         0.000649              0.181317   \n",
      "2851        3042             0.024326         0.000000              0.178830   \n",
      "2852        3001             0.022992         0.000000              0.184272   \n",
      "\n",
      "      alphabet_count  a_frequency  b_frequency  c_frequency  d_frequency  \\\n",
      "0               2316     0.070929     0.011988     0.015318     0.035631   \n",
      "1               2344     0.051024     0.010400     0.013000     0.042899   \n",
      "2               2269     0.061794     0.011960     0.016611     0.035880   \n",
      "3               2465     0.064286     0.009091     0.020130     0.041234   \n",
      "4               2399     0.070565     0.009474     0.023195     0.035936   \n",
      "...              ...          ...          ...          ...          ...   \n",
      "2848            2342     0.057717     0.011673     0.020428     0.032750   \n",
      "2849            2370     0.064621     0.013708     0.018930     0.032311   \n",
      "2850            2365     0.050276     0.010380     0.023030     0.032112   \n",
      "2851            2356     0.051940     0.012163     0.021696     0.036818   \n",
      "2852            2325     0.055981     0.013995     0.018994     0.043652   \n",
      "\n",
      "      e_frequency  ...  pos_MD  pos_VB  pos_WRB  pos_NNP  pos_EX  pos_NNS  \\\n",
      "0        0.103230  ...       5      18        3       51       4       12   \n",
      "1        0.102372  ...       8      25        4        7       0       15   \n",
      "2        0.086711  ...       0      15        2       11       1       15   \n",
      "3        0.097727  ...       5      15        1       26       1       18   \n",
      "4        0.088860  ...       8      19        1       35       1       12   \n",
      "...           ...  ...     ...     ...      ...      ...     ...      ...   \n",
      "2848     0.096304  ...      12      30        3       60       0       13   \n",
      "2849     0.101828  ...       1      11        2       64       0       18   \n",
      "2850     0.093091  ...       7      31        7       34       1       22   \n",
      "2851     0.093031  ...       6      35        4       45       0       15   \n",
      "2852     0.100633  ...       4      23        1       37       0       15   \n",
      "\n",
      "      pos_SYM  pos_CC  pos_CD  pos_POS  \n",
      "0           0      13       1        0  \n",
      "1           0      24       4        0  \n",
      "2           0      18       4        0  \n",
      "3           0      25       3        0  \n",
      "4           0      11       3        0  \n",
      "...       ...     ...     ...      ...  \n",
      "2848        0      15       5        0  \n",
      "2849        0      14       2        0  \n",
      "2850        0      20       1        0  \n",
      "2851        0      12       5        0  \n",
      "2852        0      20       5        0  \n",
      "\n",
      "[2853 rows x 255 columns]\n"
     ]
    }
   ],
   "source": [
    "print(X_train_scalar.shape)\n",
    "print(dict_to_df(X_train).shape)\n",
    "print(dict_to_df(X_train))\n"
   ]
  },
  {
   "cell_type": "code",
   "execution_count": 72,
   "metadata": {},
   "outputs": [],
   "source": [
    "def ablation_analysis(X_train, y_train, X_dev, y_dev, X_features):\n",
    "  scores = []\n",
    "  f = []\n",
    "\n",
    "  scores.append(model.score(X_train, y_train))\n",
    "  f.append(\"None\")\n",
    "\n",
    "  for i,feature in enumerate(X_features.keys()):\n",
    "    X_train_ablated = np.delete(X_train, i, 1)\n",
    "    # X_dev_ablated = np.delete(X_dev, i, 0)\n",
    "\n",
    "    model.fit(X_train_ablated, y_train)\n",
    "    scores.append(model.score(X_train_ablated, y_train))\n",
    "    f.append(feature)\n",
    "\n",
    "  return f, scores"
   ]
  },
  {
   "cell_type": "code",
   "execution_count": 73,
   "metadata": {},
   "outputs": [
    {
     "name": "stdout",
     "output_type": "stream",
     "text": [
      "['None', 'CF', 'LETTERS', 'CHARS', 'WF', 'PUNC', 'FUNC', 'STRUCTF', 'POS']\n",
      "[0.6698212407991588, 1.0, 1.0, 1.0, 1.0, 1.0, 1.0, 1.0, 1.0]\n"
     ]
    }
   ],
   "source": [
    "feature_names, scores = ablation_analysis(X_train_scalar, y_train, X_dev_scalar, y_dev, X_train)\n",
    "print(feature_names)\n",
    "print(scores)\n"
   ]
  },
  {
   "cell_type": "code",
   "execution_count": 74,
   "metadata": {},
   "outputs": [
    {
     "data": {
      "image/png": "[encoded data removed]",
      "text/plain": [
       "<Figure size 640x480 with 1 Axes>"
      ]
     },
     "metadata": {},
     "output_type": "display_data"
    }
   ],
   "source": [
    "legend = ['A: Character features',\n",
    "          'B: Individual letter frequencies', \n",
    "          'C: Special character frequencies',\n",
    "          'D: Word features',\n",
    "          'E: Punctuation frequencies',\n",
    "          'F: Function words',\n",
    "          'G: Structural features',\n",
    "          'H: Part-of-speech tags']\n",
    "legend = '\\n'.join(legend)\n",
    "\n",
    "fig, ax = plt.subplots()\n",
    "bar_container = ax.bar(['None','A','B','C','D','E','F','G', 'H'], scores)\n",
    "ax.set_ylim([0.86, 1])\n",
    "ax.set_ylabel('F-Measure')\n",
    "ax.set_xlabel('Removed feature group')\n",
    "ax.bar_label(bar_container, fmt=lambda x: f'{x * 100:.1f}%')\n",
    "plt.text(9,0.999, legend, va=\"top\")\n",
    "\n",
    "plt.show()"
   ]
  },
  {
   "cell_type": "code",
   "execution_count": 35,
   "metadata": {},
   "outputs": [
    {
     "ename": "TypeError",
     "evalue": "to_scalar() missing 1 required positional argument: 'dev'",
     "output_type": "error",
     "traceback": [
      "\u001b[0;31m---------------------------------------------------------------------------\u001b[0m",
      "\u001b[0;31mTypeError\u001b[0m                                 Traceback (most recent call last)",
      "\u001b[1;32m/home/movieminer/ubuntu_computingscience/txmm/TxMM/assignment4/authorship_attribution.ipynb Cell 13\u001b[0m line \u001b[0;36m5\n\u001b[1;32m      <a href='vscode-notebook-cell://wsl%2Bubuntu-20.04/home/movieminer/ubuntu_computingscience/txmm/TxMM/assignment4/authorship_attribution.ipynb#X15sdnNjb2RlLXJlbW90ZQ%3D%3D?line=1'>2</a>\u001b[0m   X_test_df \u001b[39m=\u001b[39m to_scalar(X_test)\n\u001b[1;32m      <a href='vscode-notebook-cell://wsl%2Bubuntu-20.04/home/movieminer/ubuntu_computingscience/txmm/TxMM/assignment4/authorship_attribution.ipynb#X15sdnNjb2RlLXJlbW90ZQ%3D%3D?line=2'>3</a>\u001b[0m   \u001b[39mreturn\u001b[39;00m model\u001b[39m.\u001b[39mscore(X_test_df, y_test)\n\u001b[0;32m----> <a href='vscode-notebook-cell://wsl%2Bubuntu-20.04/home/movieminer/ubuntu_computingscience/txmm/TxMM/assignment4/authorship_attribution.ipynb#X15sdnNjb2RlLXJlbW90ZQ%3D%3D?line=4'>5</a>\u001b[0m \u001b[39mprint\u001b[39m(test_accuracy(X_test, y_test, model))\n",
      "\u001b[1;32m/home/movieminer/ubuntu_computingscience/txmm/TxMM/assignment4/authorship_attribution.ipynb Cell 13\u001b[0m line \u001b[0;36m2\n\u001b[1;32m      <a href='vscode-notebook-cell://wsl%2Bubuntu-20.04/home/movieminer/ubuntu_computingscience/txmm/TxMM/assignment4/authorship_attribution.ipynb#X15sdnNjb2RlLXJlbW90ZQ%3D%3D?line=0'>1</a>\u001b[0m \u001b[39mdef\u001b[39;00m \u001b[39mtest_accuracy\u001b[39m(X_test, y_test, model):\n\u001b[0;32m----> <a href='vscode-notebook-cell://wsl%2Bubuntu-20.04/home/movieminer/ubuntu_computingscience/txmm/TxMM/assignment4/authorship_attribution.ipynb#X15sdnNjb2RlLXJlbW90ZQ%3D%3D?line=1'>2</a>\u001b[0m   X_test_df \u001b[39m=\u001b[39m to_scalar(X_test)\n\u001b[1;32m      <a href='vscode-notebook-cell://wsl%2Bubuntu-20.04/home/movieminer/ubuntu_computingscience/txmm/TxMM/assignment4/authorship_attribution.ipynb#X15sdnNjb2RlLXJlbW90ZQ%3D%3D?line=2'>3</a>\u001b[0m   \u001b[39mreturn\u001b[39;00m model\u001b[39m.\u001b[39mscore(X_test_df, y_test)\n",
      "\u001b[0;31mTypeError\u001b[0m: to_scalar() missing 1 required positional argument: 'dev'"
     ]
    }
   ],
   "source": [
    "\n",
    "def test_accuracy(X_test, y_test, model):\n",
    "  X_test_df = to_scalar(X_test)\n",
    "  return model.score(X_test_df, y_test)\n",
    "\n",
    "print(test_accuracy(X_test, y_test, model))"
   ]
  }
 ],
 "metadata": {
  "kernelspec": {
   "display_name": ".venv",
   "language": "python",
   "name": "python3"
  },
  "language_info": {
   "codemirror_mode": {
    "name": "ipython",
    "version": 3
   },
   "file_extension": ".py",
   "mimetype": "text/x-python",
   "name": "python",
   "nbconvert_exporter": "python",
   "pygments_lexer": "ipython3",
   "version": "3.11.0"
  }
 },
 "nbformat": 4,
 "nbformat_minor": 2
}
