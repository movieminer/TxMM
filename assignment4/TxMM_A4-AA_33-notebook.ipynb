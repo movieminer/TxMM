{
 "cells": [
  {
   "cell_type": "code",
   "execution_count": 73,
   "metadata": {},
   "outputs": [
    {
     "name": "stderr",
     "output_type": "stream",
     "text": [
      "[nltk_data] Downloading package averaged_perceptron_tagger to\n",
      "[nltk_data]     /home/movieminer/nltk_data...\n",
      "[nltk_data]   Package averaged_perceptron_tagger is already up-to-\n",
      "[nltk_data]       date!\n",
      "[nltk_data] Downloading package words to /home/movieminer/nltk_data...\n",
      "[nltk_data]   Package words is already up-to-date!\n",
      "[nltk_data] Downloading package tagsets to\n",
      "[nltk_data]     /home/movieminer/nltk_data...\n",
      "[nltk_data]   Package tagsets is already up-to-date!\n",
      "[nltk_data] Downloading package punkt to /home/movieminer/nltk_data...\n",
      "[nltk_data]   Package punkt is already up-to-date!\n"
     ]
    },
    {
     "data": {
      "text/plain": [
       "True"
      ]
     },
     "execution_count": 73,
     "metadata": {},
     "output_type": "execute_result"
    }
   ],
   "source": [
    "import pandas as pd\n",
    "from sklearn.preprocessing import StandardScaler\n",
    "\n",
    "import numpy as np\n",
    "from nltk.data import load\n",
    "import sklearn\n",
    "from sklearn import svm as SVM\n",
    "from sklearn.model_selection import GridSearchCV\n",
    "import nltk\n",
    "import matplotlib.pyplot as plt\n",
    "import helper\n",
    "nltk.download('averaged_perceptron_tagger')\n",
    "nltk.download('words')\n",
    "nltk.download('tagsets')\n",
    "nltk.download('punkt')\n"
   ]
  },
  {
   "cell_type": "code",
   "execution_count": 74,
   "metadata": {},
   "outputs": [],
   "source": [
    "data_path = 'A4data_2324_pan2020/'\n",
    "\n",
    "def load_data():\n",
    "    train_dataset = pd.read_csv(data_path + 'pan2324_train_data.csv')\n",
    "    test_dataset = pd.read_csv(data_path + 'pan2324_test_data.csv')\n",
    "    dev_dataset = pd.read_csv(data_path + 'pan2324_dev_data.csv')\n",
    "    return train_dataset, test_dataset, dev_dataset"
   ]
  },
  {
   "cell_type": "code",
   "execution_count": 75,
   "metadata": {},
   "outputs": [],
   "source": [
    "train_dataset, test_dataset, dev_dataset = load_data()"
   ]
  },
  {
   "cell_type": "code",
   "execution_count": 76,
   "metadata": {},
   "outputs": [],
   "source": [
    "tagdict = load('help/tagsets/upenn_tagset.pickle')\n",
    "function_words = helper.function_words\n",
    "\n",
    "def feature_extraction(dataset):\n",
    "    text = dataset['text']\n",
    "    authors = dataset['author']\n",
    "    features = {}\n",
    "\n",
    "    # Character based features\n",
    "    features['CF'] = pd.DataFrame()\n",
    "    features['LETTERS'] = pd.DataFrame()\n",
    "    features['CHARS'] = pd.DataFrame()\n",
    "\n",
    "    features['CF']['char_count'] = text.apply(len)\n",
    "    uppercase_count = text.apply(lambda x: sum([1 for char in x if char.isupper()]))\n",
    "    features['CF']['uppercase_frequency'] = uppercase_count / features['CF']['char_count']\n",
    "    digit_count = text.apply(lambda x: sum([1 for char in x if char.isdigit()]))\n",
    "    features['CF']['digit_frequency'] = digit_count / features['CF']['char_count']\n",
    "    features['CF']['whitespace_frequency'] = text.apply(lambda x: sum([1 for char in x if char == ' '])) / features['CF']['char_count']\n",
    "    features['CF']['alphabet_count'] = text.apply(lambda x: sum([1 for letter in x.lower() if letter.isalpha()]))\n",
    "\n",
    "    for letter in 'abcdefghijklmnopqrstuvwxyz':\n",
    "        features['LETTERS'][letter + '_frequency'] = text.apply(lambda x: x.lower().count(letter)) / features['CF']['char_count']\n",
    "        \n",
    "    for special_character in [\"~\" , \"@\", \"#\", \"$\", \"%\", \"^\", \"&\", \"*\", \"-\", \"_\", \"=\" ,\"+\", \">\", \"<\", \"[\", \"]\", \"{\", \"}\", \"/\", \"\\\\\", \"|\"]:\n",
    "        features['CHARS'][special_character + '_frequency'] = text.apply(lambda x: x.count(special_character)) / features['CF']['char_count']\n",
    "\n",
    "    # Word based features\n",
    "    features['WF'] = pd.DataFrame()\n",
    "\n",
    "    features['WF']['word_count'] = text.apply(lambda x: len(x.split()))\n",
    "    features['WF']['avg_word_length'] = text.apply(lambda x: sum([len(word) for word in x.split()]) / len(x.split()))\n",
    "    features['WF']['avg_sentence_length'] = text.apply(lambda x: sum([len(sentence) for sentence in x.split('.')]) / len(x.split('.')))\n",
    "    features['WF']['avg_sentence_word_count'] = features['WF']['avg_sentence_length'] / features['WF']['avg_word_length']\n",
    "    unique_words = text.apply(lambda x: len(set(x.split())))\n",
    "    features['WF']['unique_words_frequency'] = unique_words / features['WF']['word_count']\n",
    "\n",
    "    # Syntactic features\n",
    "    features['PUNC'] = pd.DataFrame()\n",
    "\n",
    "    punctuation_count = text.apply(lambda x: sum([1 for char in x if char in ['.', ',', ';', ':', '!', '?', \"\\'\", \"\\\"\"]]))\n",
    "    features['PUNC']['punctuation_frequency'] = punctuation_count / features['CF']['char_count']\n",
    "    \n",
    "    new_columns = {}\n",
    "    for function_word in function_words:\n",
    "        new_columns[function_word + '_frequency'] = text.apply(lambda x: x.lower().count(function_word))\n",
    "\n",
    "    features['FUNC'] = pd.DataFrame(new_columns)\n",
    "\n",
    "    # Structural features\n",
    "    features['STRUCTF'] = pd.DataFrame()\n",
    "\n",
    "    features['STRUCTF']['sentence_count'] = text.apply(lambda x: len(x.split('.')))\n",
    "    features['STRUCTF']['repeated_punctuation_frequency'] = text.apply(lambda x: sum([1 for i in range(len(x)) if x[i] in ['.', ',', ';', ':', '!', '?', \"\\'\", \"\\\"\"] and x[i] == x[i-1]])) / punctuation_count\n",
    "\n",
    "    # POS features\n",
    "    features['POS'] = pd.DataFrame()\n",
    "    tag_count = pd.DataFrame()\n",
    "\n",
    "    pos = text.apply(lambda x: nltk.pos_tag(nltk.word_tokenize(x)))\n",
    "    posfreq = pos.apply(lambda x: dict(nltk.FreqDist([tag for (word, tag) in x])))\n",
    "    tags = list(tagdict)\n",
    "    for tag in tags:\n",
    "        if tag.isalpha():\n",
    "          tag_count[f'pos_{tag}'] = posfreq.apply(lambda x: x.get(tag, 0))\n",
    "\n",
    "    total_pos_tags = tag_count.sum(axis=1)\n",
    "    for tag in tags:\n",
    "        if tag.isalpha():\n",
    "            features['POS'][f'{tag}_frequency'] = tag_count[f'pos_{tag}'] / total_pos_tags\n",
    "\n",
    "\n",
    "    return features, authors"
   ]
  },
  {
   "cell_type": "code",
   "execution_count": 77,
   "metadata": {},
   "outputs": [],
   "source": [
    "def dict_to_df(dictionary):\n",
    "    df = pd.DataFrame()\n",
    "    for key in dictionary.keys():\n",
    "        df = pd.concat([df, dictionary[key]], axis=1)\n",
    "    return df\n",
    "\n",
    "\n",
    "def to_scaler(train, dev, test):\n",
    "    df_train = dict_to_df(train).values\n",
    "    df_dev = dict_to_df(dev).values\n",
    "    df_test = dict_to_df(test).values\n",
    "\n",
    "    scaler = StandardScaler()\n",
    "\n",
    "    train_scaled = scaler.fit_transform(df_train)\n",
    "    dev_scaled = scaler.transform(df_dev)\n",
    "    test_scaled = scaler.transform(df_test)\n",
    "\n",
    "    return train_scaled, dev_scaled, test_scaled\n",
    "\n",
    "\n",
    "def save_features(features, authors, filename):\n",
    "    features = dict_to_df(features)\n",
    "    features['author'] = authors\n",
    "    features.to_csv(f\"features/{filename}\", index=False)"
   ]
  },
  {
   "cell_type": "code",
   "execution_count": 78,
   "metadata": {},
   "outputs": [],
   "source": [
    "X_train, y_train = feature_extraction(train_dataset)\n",
    "X_dev, y_dev  = feature_extraction(dev_dataset)\n",
    "X_test, y_test = feature_extraction(test_dataset)\n",
    "\n",
    "save_features(X_train, y_train, 'train_features.csv')\n",
    "save_features(X_dev, y_dev, 'dev_features.csv')\n",
    "save_features(X_test, y_test, 'test_features.csv')\n",
    "\n",
    "X_train_scaler, X_dev_scaler, X_test_scaler = to_scaler(X_train, X_dev, X_test)"
   ]
  },
  {
   "cell_type": "code",
   "execution_count": 79,
   "metadata": {},
   "outputs": [],
   "source": [
    "def train_model(X_train, y_train, X_dev, y_dev):\n",
    "  clf = SVM.SVC()\n",
    "\n",
    "  clf.fit(X_train, y_train)\n",
    "\n",
    "  params = [\n",
    "    {'C': [1, 10, 100, 1000], 'kernel': ['linear']},\n",
    "    {'C': [1, 10, 100, 1000], 'gamma': [0.001, 0.01, 0.1, 1, \"scale\", \"auto\"], 'kernel': ['rbf']},\n",
    "  ]\n",
    "  grid_search = GridSearchCV(clf, params)\n",
    "  grid_search.fit(X_train, y_train)\n",
    "\n",
    "  best_clf = grid_search.best_estimator_\n",
    "  dev_score = best_clf.score(X_dev, y_dev)\n",
    "  \n",
    "  print(f'Best score: {dev_score} with C={best_clf.C} and kernel={best_clf.kernel} and gamma={best_clf.gamma}')\n",
    "  \n",
    "  return best_clf, dev_score"
   ]
  },
  {
   "cell_type": "code",
   "execution_count": 80,
   "metadata": {},
   "outputs": [
    {
     "name": "stdout",
     "output_type": "stream",
     "text": [
      "Best score: 0.9790794979079498 with C=10 and kernel=rbf and gamma=0.001\n"
     ]
    }
   ],
   "source": [
    "model, accuracy = train_model(X_train_scaler, y_train, X_dev_scaler, y_dev)"
   ]
  },
  {
   "cell_type": "code",
   "execution_count": 81,
   "metadata": {},
   "outputs": [],
   "source": [
    "def ablation_analysis(X_train, y_train, X_dev, y_dev, X_features):\n",
    "  scores = []\n",
    "  f = []\n",
    "\n",
    "  model.fit(X_train, y_train)\n",
    "  scores.append(model.score(X_dev, y_dev))\n",
    "  f.append(\"None\")\n",
    "\n",
    "  cur_col = 0\n",
    "  for feature in X_features.keys():\n",
    "    num_cols = len(X_features[feature].columns)\n",
    "\n",
    "    X_train_ablated = np.delete(X_train, np.s_[cur_col:(cur_col+num_cols)] , 1)\n",
    "    X_dev_ablated = np.delete(X_dev, np.s_[cur_col:(cur_col+num_cols)] , 1)\n",
    "    model.fit(X_train_ablated, y_train)\n",
    "    scores.append(model.score(X_dev_ablated, y_dev))\n",
    "    f.append(feature)\n",
    "    cur_col += num_cols\n",
    "\n",
    "  # Resetting the model\n",
    "  model.fit(X_train, y_train)\n",
    "  \n",
    "  return f, scores"
   ]
  },
  {
   "cell_type": "code",
   "execution_count": 82,
   "metadata": {},
   "outputs": [
    {
     "name": "stdout",
     "output_type": "stream",
     "text": [
      "None: 0.9790794979079498\n",
      "CF: 0.9748953974895398\n",
      "LETTERS: 0.9707112970711297\n",
      "CHARS: 0.9790794979079498\n",
      "WF: 0.9832635983263598\n",
      "PUNC: 0.9748953974895398\n",
      "FUNC: 0.8661087866108786\n",
      "STRUCTF: 0.9790794979079498\n",
      "POS: 0.9748953974895398\n"
     ]
    }
   ],
   "source": [
    "feature_names, scores = ablation_analysis(X_train_scaler, y_train, X_dev_scaler, y_dev, X_train)\n",
    "\n",
    "for i in range(len(feature_names)):\n",
    "  print(f'{feature_names[i]}: {scores[i]}')"
   ]
  },
  {
   "cell_type": "code",
   "execution_count": 83,
   "metadata": {},
   "outputs": [
    {
     "data": {
      "image/png": "[encoded data removed]",
      "text/plain": [
       "<Figure size 640x480 with 1 Axes>"
      ]
     },
     "metadata": {},
     "output_type": "display_data"
    }
   ],
   "source": [
    "legend = ['A: Character features',\n",
    "          'B: Individual letter frequencies', \n",
    "          'C: Special character frequencies',\n",
    "          'D: Word features',\n",
    "          'E: Punctuation frequencies',\n",
    "          'F: Function words',\n",
    "          'G: Structural features',\n",
    "          'H: Part-of-speech tags']\n",
    "legend = '\\n'.join(legend)\n",
    "\n",
    "fig, ax = plt.subplots()\n",
    "bar_container = ax.bar(['None','A','B','C','D','E','F','G', 'H'], scores)\n",
    "ax.set_ylim([0.8, 1])\n",
    "ax.set_ylabel('F-Measure')\n",
    "ax.set_xlabel('Removed feature group')\n",
    "ax.bar_label(bar_container, fmt=lambda x: f'{x * 100:.1f}%')\n",
    "plt.text(9,0.999, legend, va=\"top\")\n",
    "\n",
    "plt.show()"
   ]
  },
  {
   "cell_type": "code",
   "execution_count": 85,
   "metadata": {},
   "outputs": [
    {
     "name": "stdout",
     "output_type": "stream",
     "text": [
      "Test accuracy: 97.5%\n"
     ]
    }
   ],
   "source": [
    "\n",
    "def test_accuracy(X_test, y_test):\n",
    "  return model.score(X_test, y_test)\n",
    "\n",
    "test_acc = test_accuracy(X_test_scaler, y_test)\n",
    "print(\"Test accuracy: %.1f\" % (test_acc *100) + \"%\")"
   ]
  }
 ],
 "metadata": {
  "kernelspec": {
   "display_name": ".venv",
   "language": "python",
   "name": "python3"
  },
  "language_info": {
   "codemirror_mode": {
    "name": "ipython",
    "version": 3
   },
   "file_extension": ".py",
   "mimetype": "text/x-python",
   "name": "python",
   "nbconvert_exporter": "python",
   "pygments_lexer": "ipython3",
   "version": "3.11.0"
  }
 },
 "nbformat": 4,
 "nbformat_minor": 2
}
